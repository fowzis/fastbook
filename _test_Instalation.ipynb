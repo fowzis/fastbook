{
 "cells": [
  {
   "cell_type": "code",
   "execution_count": 1,
   "id": "56bbe11a-e410-4c6a-94d3-3fba1faff4e0",
   "metadata": {},
   "outputs": [
    {
     "data": {
      "application/vnd.jupyter.widget-view+json": {
       "model_id": "0721edee023c4e77a4234daf32949e19",
       "version_major": 2,
       "version_minor": 0
      },
      "text/plain": [
       "IntSlider(value=0)"
      ]
     },
     "metadata": {},
     "output_type": "display_data"
    }
   ],
   "source": [
    "# test Jupyter widgets\n",
    "\n",
    "import ipywidgets as widgets\n",
    "slider = widgets.IntSlider()\n",
    "slider"
   ]
  },
  {
   "cell_type": "code",
   "execution_count": 2,
   "id": "ba206e8e-7f53-40ed-9ff3-66791dbee620",
   "metadata": {},
   "outputs": [
    {
     "name": "stdout",
     "output_type": "stream",
     "text": [
      "tkinter is now available!\n"
     ]
    }
   ],
   "source": [
    "try:\n",
    "    import tkinter as tk\n",
    "    print(\"tkinter is now available!\")\n",
    "    root = tk.Tk()\n",
    "    root.title(\"Test Window\")\n",
    "    root.geometry(\"200x100\")\n",
    "    root.mainloop()\n",
    "except ImportError:\n",
    "    print(\"tkinter still not available\")"
   ]
  },
  {
   "cell_type": "code",
   "execution_count": null,
   "id": "4b29837b-0d6b-419d-91e8-fd3702a99c0e",
   "metadata": {},
   "outputs": [],
   "source": []
  }
 ],
 "metadata": {
  "kernelspec": {
   "display_name": "Python 3 (ipykernel)",
   "language": "python",
   "name": "python3"
  },
  "language_info": {
   "codemirror_mode": {
    "name": "ipython",
    "version": 3
   },
   "file_extension": ".py",
   "mimetype": "text/x-python",
   "name": "python",
   "nbconvert_exporter": "python",
   "pygments_lexer": "ipython3",
   "version": "3.12.3"
  }
 },
 "nbformat": 4,
 "nbformat_minor": 5
}
